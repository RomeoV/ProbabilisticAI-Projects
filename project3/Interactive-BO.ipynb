{
 "cells": [
  {
   "cell_type": "code",
   "execution_count": null,
   "metadata": {},
   "outputs": [],
   "source": [
    "import torch\n",
    "from solution import BO_algo, train_agent, f, v, plot_agent\n",
    "import ipywidgets\n",
    "from ipywidgets import interact\n",
    "import IPython\n",
    "from sklearn.gaussian_process.kernels import Matern\n",
    "import matplotlib.pyplot as plt\n",
    "\n",
    "%load_ext autoreload\n",
    "%autoreload 2"
   ]
  },
  {
   "cell_type": "code",
   "execution_count": null,
   "metadata": {},
   "outputs": [],
   "source": [
    "plt.rcParams['figure.figsize'] = [12, 8]\n",
    "plt.rcParams['figure.dpi'] = 100 # 200 e.g. is really fine, but slower"
   ]
  },
  {
   "cell_type": "code",
   "execution_count": null,
   "metadata": {},
   "outputs": [],
   "source": [
    "agent = BO_algo()\n",
    "train_agent(agent, debug=True)\n",
    "IPython.display.clear_output(wait=True)\n",
    "plt.close()\n",
    "#plot_agent(agent)"
   ]
  },
  {
   "cell_type": "code",
   "execution_count": null,
   "metadata": {
    "scrolled": false
   },
   "outputs": [],
   "source": [
    "def run_interact(lengthscale, nu, variance, prior_mu, sigma_f, beta, kappa, n_iters):\n",
    "    agent = BO_algo()\n",
    "    agent.μf_prior = prior_mu\n",
    "    agent.σ_f = sigma_f\n",
    "    agent.β = beta\n",
    "    agent.κ = kappa\n",
    "    agent.var_f = variance\n",
    "    agent.Matern_f_np = Matern(length_scale=lengthscale, nu=nu)\n",
    "    agent.Matern_f = lambda x, y: agent.var_f * torch.from_numpy(agent.Matern_f_np(x, y))\n",
    "    \n",
    "    train_agent(agent, n_iters=n_iters)\n",
    "    IPython.display.clear_output(wait=True)\n",
    "    plt.close()\n",
    "    plot_agent(agent)\n",
    "    plt.show()\n",
    "\n",
    "interact(run_interact,\n",
    "        lengthscale=ipywidgets.FloatSlider(value=0.6, min=0.001, max=2, step=0.01, continuous_update=False),\n",
    "        nu=ipywidgets.FloatSlider(value=2.5, min=0.5, max=5, step=0.01, continuous_update=False),\n",
    "        variance=ipywidgets.FloatSlider(value=0.5, min=0.1, max=1, step=0.01, continuous_update=False),\n",
    "        prior_mu=ipywidgets.FloatSlider(value=0., min=-1., max=1., step=0.01, continuous_update=False),\n",
    "        sigma_f=ipywidgets.FloatSlider(value=0.15, min=0.01, max=0.3, step=0.01, continuous_update=False),\n",
    "        beta=ipywidgets.FloatSlider(value=1., min=0.01, max=3, step=0.01, continuous_update=False),\n",
    "        kappa=ipywidgets.FloatSlider(value=1., min=-2., max=2., step=0.01, continuous_update=False),\n",
    "        n_iters=ipywidgets.IntSlider(value=20, min=1, max=40, continuous_update=False),\n",
    "        );"
   ]
  },
  {
   "cell_type": "code",
   "execution_count": null,
   "metadata": {
    "scrolled": false
   },
   "outputs": [],
   "source": [
    "agent = BO_algo()\n",
    "train_agent(agent, n_iters=10)\n",
    "plot_agent(agent)\n",
    "xs = torch.linspace(0,5).unsqueeze(1)"
   ]
  },
  {
   "cell_type": "code",
   "execution_count": null,
   "metadata": {},
   "outputs": [],
   "source": [
    "\n",
    "\n",
    "\n",
    "\n",
    "\n",
    "\n",
    "\n",
    "\n",
    "\n",
    "\n",
    "\n",
    "\n",
    "\n",
    "\n",
    "\n",
    "\n",
    "\n",
    "\n",
    "\n",
    "\n",
    "\n",
    "\n",
    "\n",
    "\n",
    "\n",
    "\n",
    "\n",
    "\n",
    "\n",
    "\n",
    "\n",
    "\n",
    "\n"
   ]
  }
 ],
 "metadata": {
  "@webio": {
   "lastCommId": null,
   "lastKernelId": null
  },
  "kernelspec": {
   "display_name": "Python 3",
   "language": "python",
   "name": "python3"
  },
  "language_info": {
   "codemirror_mode": {
    "name": "ipython",
    "version": 3
   },
   "file_extension": ".py",
   "mimetype": "text/x-python",
   "name": "python",
   "nbconvert_exporter": "python",
   "pygments_lexer": "ipython3",
   "version": "3.7.6"
  }
 },
 "nbformat": 4,
 "nbformat_minor": 4
}
